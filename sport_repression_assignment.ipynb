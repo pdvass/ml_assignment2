{
 "cells": [
  {
   "cell_type": "markdown",
   "id": "2f04f76f",
   "metadata": {},
   "source": [
    "# International Sports Events: Window Dressing and Repression\n",
    "\n",
    "In this assignment you will replicate partly a study on the relationship between repression in autocratic regimes and international sports events:\n",
    "\n",
    "* Scharpf, A., Gläßel, C., Pearce, E. (2022) *International Sports Events and Repression in Autocracies: Evidence from the 1978 FIFA World Cup*, American Political Science Review, 1-18.  https://doi:10.1017/S0003055422000958.\n",
    "\n",
    "Read the paper, locate, download, and familiarize yourself with the dataset provided by the authors at https://dataverse.harvard.edu/dataset.xhtml?persistentId=doi:10.7910/DVN/RJY34I. You should use the dataset in its archival format (`.tab`).\n",
    "\n",
    "---\n",
    "\n",
    "> Panos Louridas, Associate Professor <br />\n",
    "> Department of Management Science and Technology <br />\n",
    "> Athens University of Economics and Business <br />\n",
    "> louridas@aueb.gr"
   ]
  },
  {
   "cell_type": "markdown",
   "id": "e4468779",
   "metadata": {},
   "source": [
    "## Questions"
   ]
  },
  {
   "cell_type": "markdown",
   "id": "d1ccbea3",
   "metadata": {},
   "source": [
    "### Q1: Overview\n",
    "\n",
    "Make sure you have the right data by replicating Table SI.3.1 and SI.3.2 of the Supporting Information.\n",
    "\n",
    "Replicate Figure 1 of the main paper and Figure SI.1.1 from the Supporting Information."
   ]
  },
  {
   "cell_type": "markdown",
   "id": "5952a525",
   "metadata": {},
   "source": [
    "### Q2: Repression in Departments with and without Host Cities\n",
    "\n",
    "The authors formulate two hypotheses:\n",
    "\n",
    "* H1: In the run-up to an international sports tournament, state repression spikes in host cities, but not in other cities.\n",
    "\n",
    "* H2: During an international sports tourna- ment, state repression drops in host cities but remains unchanged in other cities.\n",
    "\n",
    "They validate their hypotheses using a series of regression analyses. They use negative binomial regression models, but they find that their findings are robust with Ordinary Least Squares (OLS), so we'll use OLS in this assignment.\n",
    "\n",
    "You will run the three first models of Table 1 of the main paper, which correpond to columns (1)-(3). You can find a partial report of the results in Table SI.4.1 of the Supporting Information; you should detail the control variables as in Table 1.\n",
    "\n",
    "How do you interpret the results?"
   ]
  },
  {
   "cell_type": "markdown",
   "id": "c39dedbb",
   "metadata": {},
   "source": [
    "### Q3: Graphical Overview of Effects \n",
    "\n",
    "Replicate Figure 5 of the main paper using your own model. Moreover, enrich the figure by plotting also relevant information from the actual data (not predictions).\n",
    "\n",
    "How do you interpret the results?"
   ]
  },
  {
   "cell_type": "markdown",
   "id": "81f44fc3",
   "metadata": {},
   "source": [
    "### Q4: Robustness Check Using a Dichotomous Indicator of Repression\n",
    "\n",
    "As an additional robustness check, the authors run logistic regressions using a binary outcome variable for regression. They report their results in Table SI.4.5 of the Supplementary Information; replicate these results."
   ]
  },
  {
   "cell_type": "markdown",
   "id": "e094ea32",
   "metadata": {},
   "source": [
    "### Q5: Robustness Check Using Matched Samples\n",
    "\n",
    "Another robustness check that the authors have undertaken is to run regression analyses on matched samples. They have created subsets of the data that pair similar departments with and without host cities. The matching has been carried out both manually, by using the range of population size, and algorithmically. We will focus on the simple, manual matching.\n",
    "\n",
    "Replicate table SI.4.7 of the Supplementary Information and recreate Figure 6 of the main paper.\n",
    "\n",
    "How do you interpret the results?"
   ]
  },
  {
   "cell_type": "markdown",
   "id": "b73fd231",
   "metadata": {},
   "source": [
    "## Submission Instructions\n",
    "\n",
    "You will submit a Jupyter notebook that will contain all your code, data, and analysis. Ensure that the notebook will run correctly in a computer that is not your own. That means, among other things, that it does not contain absolute paths. Remember that a notebook is not a collection of code cells thrown together; it should contain as much text as necessary for a person to understand what you are doing."
   ]
  },
  {
   "cell_type": "markdown",
   "id": "15ce37c4",
   "metadata": {},
   "source": [
    "## Honor Code\n",
    "\n",
    "You understand that this is an individual assignment, and as such you must carry it out alone. You may seek help on the Internet, by Googling or searching in StackOverflow for general questions pertaining to the use of Python,  libraries, and idioms. However, it is not right to ask direct questions that relate to the assignment and where people will actually solve your problem by answering them. You may discuss with your fellow students in order to better understand the questions, if they are not clear enough, but you should not ask them to share their answers with you, or to help you by giving specific advice."
   ]
  }
 ],
 "metadata": {
  "kernelspec": {
   "display_name": "Python 3 (ipykernel)",
   "language": "python",
   "name": "python3"
  },
  "language_info": {
   "codemirror_mode": {
    "name": "ipython",
    "version": 3
   },
   "file_extension": ".py",
   "mimetype": "text/x-python",
   "name": "python",
   "nbconvert_exporter": "python",
   "pygments_lexer": "ipython3",
   "version": "3.11.0"
  }
 },
 "nbformat": 4,
 "nbformat_minor": 5
}
